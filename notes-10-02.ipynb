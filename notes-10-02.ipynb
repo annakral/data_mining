{
 "cells": [
  {
   "cell_type": "code",
   "execution_count": 2,
   "metadata": {},
   "outputs": [
    {
     "name": "stdout",
     "output_type": "stream",
     "text": [
      "Retrieving notices: ...working... done\n",
      "Note: you may need to restart the kernel to use updated packages.\n",
      "\n",
      "Channels:\n",
      " - defaults\n",
      " - conda-forge\n",
      "Platform: win-64\n",
      "Collecting package metadata (repodata.json): ...working... done\n",
      "Solving environment: ...working... done\n",
      "\n",
      "## Package Plan ##\n",
      "\n",
      "  environment location: c:\\Users\\anusk\\anaconda_python\\envs\\data-science\n",
      "\n",
      "  added / updated specs:\n",
      "    - pandas\n",
      "\n",
      "\n",
      "The following packages will be downloaded:\n",
      "\n",
      "    package                    |            build\n",
      "    ---------------------------|-----------------\n",
      "    bottleneck-1.4.2           |  py312h4b0e54e_0         145 KB\n",
      "    numexpr-2.10.1             |  py312h4cd664f_0         201 KB\n",
      "    pandas-2.2.3               |  py312h5da7b33_0        14.2 MB\n",
      "    python-tzdata-2023.3       |     pyhd3eb1b0_0         140 KB\n",
      "    pytz-2024.1                |  py312haa95532_0         222 KB\n",
      "    ------------------------------------------------------------\n",
      "                                           Total:        14.9 MB\n",
      "\n",
      "The following NEW packages will be INSTALLED:\n",
      "\n",
      "  bottleneck         pkgs/main/win-64::bottleneck-1.4.2-py312h4b0e54e_0 \n",
      "  numexpr            pkgs/main/win-64::numexpr-2.10.1-py312h4cd664f_0 \n",
      "  pandas             pkgs/main/win-64::pandas-2.2.3-py312h5da7b33_0 \n",
      "  python-tzdata      pkgs/main/noarch::python-tzdata-2023.3-pyhd3eb1b0_0 \n",
      "  pytz               pkgs/main/win-64::pytz-2024.1-py312haa95532_0 \n",
      "\n",
      "\n",
      "\n",
      "Downloading and Extracting Packages: ...working... done\n",
      "Preparing transaction: ...working... done\n",
      "Verifying transaction: ...working... done\n",
      "Executing transaction: ...working... done\n"
     ]
    }
   ],
   "source": [
    "conda install pandas"
   ]
  },
  {
   "cell_type": "code",
   "execution_count": 9,
   "metadata": {},
   "outputs": [
    {
     "name": "stdout",
     "output_type": "stream",
     "text": [
      "        Country  Age  Gender  Education Level   BMI Physical Activity Level  \\\n",
      "0         Spain   90    Male                1  33.0                  Medium   \n",
      "1     Argentina   72    Male                7  29.9                  Medium   \n",
      "2  South Africa   86  Female               19  22.9                    High   \n",
      "3         China   53    Male               17  31.2                     Low   \n",
      "4        Sweden   58  Female                3  30.0                    High   \n",
      "\n",
      "  Smoking Status Alcohol Consumption Diabetes Hypertension  ...  \\\n",
      "0          Never        Occasionally       No           No  ...   \n",
      "1         Former               Never       No           No  ...   \n",
      "2        Current        Occasionally       No          Yes  ...   \n",
      "3          Never           Regularly      Yes           No  ...   \n",
      "4         Former               Never      Yes           No  ...   \n",
      "\n",
      "  Dietary Habits Air Pollution Exposure  Employment Status Marital Status  \\\n",
      "0        Healthy                   High            Retired         Single   \n",
      "1        Healthy                 Medium         Unemployed        Widowed   \n",
      "2        Average                 Medium           Employed         Single   \n",
      "3        Healthy                 Medium            Retired         Single   \n",
      "4      Unhealthy                   High           Employed        Married   \n",
      "\n",
      "  Genetic Risk Factor (APOE-ε4 allele) Social Engagement Level Income Level  \\\n",
      "0                                   No                     Low       Medium   \n",
      "1                                   No                    High          Low   \n",
      "2                                   No                     Low       Medium   \n",
      "3                                   No                    High       Medium   \n",
      "4                                   No                     Low       Medium   \n",
      "\n",
      "  Stress Levels Urban vs Rural Living Alzheimer’s Diagnosis  \n",
      "0          High                 Urban                    No  \n",
      "1          High                 Urban                    No  \n",
      "2          High                 Rural                    No  \n",
      "3           Low                 Rural                    No  \n",
      "4          High                 Rural                    No  \n",
      "\n",
      "[5 rows x 25 columns]\n"
     ]
    }
   ],
   "source": [
    "import pandas as pd\n",
    "url = \"alzheimers_prediction_dataset.csv\"\n",
    "df = pd.read_csv(url)\n",
    "df1 = pd.read_excel\n",
    "\n",
    "print(df.head())"
   ]
  }
 ],
 "metadata": {
  "kernelspec": {
   "display_name": "data-science",
   "language": "python",
   "name": "python3"
  },
  "language_info": {
   "codemirror_mode": {
    "name": "ipython",
    "version": 3
   },
   "file_extension": ".py",
   "mimetype": "text/x-python",
   "name": "python",
   "nbconvert_exporter": "python",
   "pygments_lexer": "ipython3",
   "version": "3.12.8"
  }
 },
 "nbformat": 4,
 "nbformat_minor": 2
}
